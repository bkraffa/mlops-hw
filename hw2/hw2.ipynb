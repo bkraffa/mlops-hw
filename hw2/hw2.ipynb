{
 "cells": [
  {
   "cell_type": "code",
   "execution_count": 1,
   "metadata": {},
   "outputs": [
    {
     "name": "stdout",
     "output_type": "stream",
     "text": [
      "mlflow, version 2.3.2\n"
     ]
    }
   ],
   "source": [
    "%%bash\n",
    "mlflow --version"
   ]
  },
  {
   "cell_type": "code",
   "execution_count": 21,
   "metadata": {},
   "outputs": [
    {
     "name": "stdout",
     "output_type": "stream",
     "text": [
      "153660\n"
     ]
    }
   ],
   "source": [
    "%%bash\n",
    "python utils/preprocess_data.py --raw_data_path ./raw_data --dest_path ./data\n",
    "stat -c %s \"data/dv.pkl\" "
   ]
  },
  {
   "cell_type": "code",
   "execution_count": null,
   "metadata": {},
   "outputs": [],
   "source": [
    "# INICIALIZA A UI DO MLFLOW\n",
    "# %%bash\n",
    "# \n",
    "# mlflow ui --backend-store-uri sqlite:///mlflow.db --port 5004"
   ]
  },
  {
   "cell_type": "code",
   "execution_count": 24,
   "metadata": {},
   "outputs": [
    {
     "name": "stderr",
     "output_type": "stream",
     "text": [
      "2023/05/24 01:04:49 INFO mlflow.tracking.fluent: Experiment with name 'nyc-taxi-rf' does not exist. Creating a new experiment.\n"
     ]
    }
   ],
   "source": [
    "%%bash\n",
    "cd utils\n",
    "python train.py"
   ]
  }
 ],
 "metadata": {
  "kernelspec": {
   "display_name": "ml-ops-env",
   "language": "python",
   "name": "python3"
  },
  "language_info": {
   "codemirror_mode": {
    "name": "ipython",
    "version": 3
   },
   "file_extension": ".py",
   "mimetype": "text/x-python",
   "name": "python",
   "nbconvert_exporter": "python",
   "pygments_lexer": "ipython3",
   "version": "3.11.3"
  },
  "orig_nbformat": 4
 },
 "nbformat": 4,
 "nbformat_minor": 2
}
